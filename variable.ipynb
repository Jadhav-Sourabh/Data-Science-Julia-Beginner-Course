{
 "cells": [
  {
   "cell_type": "code",
   "execution_count": 2,
   "metadata": {},
   "outputs": [
    {
     "name": "stdout",
     "output_type": "stream",
     "text": [
      "5750.0\n"
     ]
    }
   ],
   "source": [
    "# Program to calculate the interest\n",
    "loan_amount = 100000\n",
    "interest_rate = 1.15 / 100\n",
    "tenure = 5\n",
    "\n",
    "total_interest = loan_amount * tenure * interest_rate\n",
    "println(total_interest)"
   ]
  },
  {
   "cell_type": "code",
   "execution_count": 3,
   "metadata": {},
   "outputs": [
    {
     "name": "stdout",
     "output_type": "stream",
     "text": [
      "Hello World\n"
     ]
    }
   ],
   "source": [
    "# String variable\n",
    "my_first_program = \"Hello World\"\n",
    "println(my_first_program)"
   ]
  },
  {
   "cell_type": "code",
   "execution_count": 6,
   "metadata": {},
   "outputs": [
    {
     "name": "stdout",
     "output_type": "stream",
     "text": [
      " This is Sourabh\n",
      "Hello World This is Sourabh\n"
     ]
    }
   ],
   "source": [
    "# Adding two String\n",
    "my_name = \" This is Sourabh\"\n",
    "println(my_name)\n",
    "\n",
    "# Concatenation\n",
    "added_string = my_first_program * my_name\n",
    "println(added_string)"
   ]
  },
  {
   "cell_type": "code",
   "execution_count": 9,
   "metadata": {},
   "outputs": [
    {
     "name": "stdout",
     "output_type": "stream",
     "text": [
      "Int64\n",
      "Float64\n",
      "String\n"
     ]
    }
   ],
   "source": [
    "# Finding the type of variable - 64 because of system configuration\n",
    "println(typeof(loan_amount))\n",
    "println(typeof(interest_rate))\n",
    "println(typeof(my_name))\n"
   ]
  }
 ],
 "metadata": {
  "kernelspec": {
   "display_name": "Python 3.10.0 64-bit",
   "language": "python",
   "name": "python3"
  },
  "language_info": {
   "file_extension": ".jl",
   "mimetype": "application/julia",
   "name": "python",
   "version": "3.10.0"
  },
  "orig_nbformat": 4,
  "vscode": {
   "interpreter": {
    "hash": "e924fbed85befe60b2fb566952981c6f6a88793a6e79df6842152bab019b9915"
   }
  }
 },
 "nbformat": 4,
 "nbformat_minor": 2
}
