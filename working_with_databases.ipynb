{
 "cells": [
  {
   "cell_type": "code",
   "execution_count": 1,
   "metadata": {},
   "outputs": [
    {
     "name": "stderr",
     "output_type": "stream",
     "text": [
      "\u001b[32m\u001b[1m    Updating\u001b[22m\u001b[39m registry at `C:\\Users\\Sourabh Jadhav\\.julia\\registries\\General.toml`\n"
     ]
    },
    {
     "name": "stderr",
     "output_type": "stream",
     "text": [
      "\u001b[32m\u001b[1m   Resolving\u001b[22m\u001b[39m package versions..."
     ]
    },
    {
     "name": "stderr",
     "output_type": "stream",
     "text": [
      "\n"
     ]
    },
    {
     "name": "stderr",
     "output_type": "stream",
     "text": [
      "\u001b[32m\u001b[1m   Installed\u001b[22m\u001b[39m DBInterface ─ v2.5.0\n"
     ]
    },
    {
     "name": "stderr",
     "output_type": "stream",
     "text": [
      "\u001b[32m\u001b[1m   Installed\u001b[22m\u001b[39m SQLite_jll ── v3.39.2+0\n"
     ]
    },
    {
     "name": "stderr",
     "output_type": "stream",
     "text": [
      "\u001b[32m\u001b[1m   Installed\u001b[22m\u001b[39m SQLite ────── v1.4.2\n"
     ]
    },
    {
     "name": "stderr",
     "output_type": "stream",
     "text": [
      "\u001b[32m\u001b[1m    Updating\u001b[22m\u001b[39m `C:\\Users\\Sourabh Jadhav\\.julia\\environments\\v1.8\\Project.toml`\n",
      " \u001b[90m [0aa819cd] \u001b[39m\u001b[92m+ SQLite v1.4.2\u001b[39m\n",
      "\u001b[32m\u001b[1m    Updating\u001b[22m\u001b[39m `C:\\Users\\Sourabh Jadhav\\.julia\\environments\\v1.8\\Manifest.toml`\n"
     ]
    },
    {
     "name": "stderr",
     "output_type": "stream",
     "text": [
      " \u001b[90m [a10d1c49] \u001b[39m\u001b[92m+ DBInterface v2.5.0\u001b[39m\n",
      " \u001b[90m [0aa819cd] \u001b[39m\u001b[92m+ SQLite v1.4.2\u001b[39m\n",
      " \u001b[90m [76ed43ae] \u001b[39m\u001b[92m+ SQLite_jll v3.39.2+0\u001b[39m"
     ]
    },
    {
     "name": "stderr",
     "output_type": "stream",
     "text": [
      "\n",
      "\u001b[32m\u001b[1mPrecompiling\u001b[22m\u001b[39m "
     ]
    },
    {
     "name": "stderr",
     "output_type": "stream",
     "text": [
      "project..."
     ]
    },
    {
     "name": "stderr",
     "output_type": "stream",
     "text": [
      "\n"
     ]
    },
    {
     "name": "stderr",
     "output_type": "stream",
     "text": [
      "\u001b[32m  ✓ \u001b[39m\u001b[90mDBInterface\u001b[39m\n"
     ]
    },
    {
     "name": "stderr",
     "output_type": "stream",
     "text": [
      "\u001b[32m  ✓ \u001b[39m\u001b[90mSQLite_jll\u001b[39m\n"
     ]
    },
    {
     "name": "stderr",
     "output_type": "stream",
     "text": [
      "\u001b[32m  ✓ \u001b[39mSQLite\n",
      "  3 dependencies successfully precompiled in 8 seconds. 145 already precompiled.\n"
     ]
    }
   ],
   "source": [
    "using Pkg\n",
    "Pkg.add(\"SQLite\")"
   ]
  },
  {
   "cell_type": "code",
   "execution_count": 2,
   "metadata": {},
   "outputs": [],
   "source": [
    "# DDL - Create, Alter, and Drop - SQLite.DB\n",
    "# DML - Insert, Update, and Delete - SQLite.execute\n",
    "# DQL - Select - SQLite.Query"
   ]
  },
  {
   "cell_type": "code",
   "execution_count": 3,
   "metadata": {},
   "outputs": [],
   "source": [
    "using SQLite"
   ]
  },
  {
   "cell_type": "code",
   "execution_count": 4,
   "metadata": {},
   "outputs": [
    {
     "data": {
      "text/plain": [
       "SQLite.DB(\"Movies\")"
      ]
     },
     "metadata": {},
     "output_type": "display_data"
    }
   ],
   "source": [
    "# Creating database\n",
    "db = SQLite.DB(\"Movies\")"
   ]
  },
  {
   "cell_type": "code",
   "execution_count": 6,
   "metadata": {},
   "outputs": [
    {
     "data": {
      "text/plain": [
       "101"
      ]
     },
     "metadata": {},
     "output_type": "display_data"
    }
   ],
   "source": [
    "SQLite.execute(db, \"CREATE TABLE IF NOT EXISTS movies(movie_id REAL, movie_name TEXT, location TEXT)\")"
   ]
  },
  {
   "cell_type": "code",
   "execution_count": 8,
   "metadata": {},
   "outputs": [
    {
     "data": {
      "text/plain": [
       "1-element Vector{SQLite.DBTable}:\n",
       " SQLite.DBTable(\"movies\", Tables.Schema:\n",
       " :movie_id    Union{Missing, Float64}\n",
       " :movie_name  Union{Missing, String}\n",
       " :location    Union{Missing, String})"
      ]
     },
     "metadata": {},
     "output_type": "display_data"
    }
   ],
   "source": [
    "SQLite.tables(db)"
   ]
  },
  {
   "cell_type": "code",
   "execution_count": 9,
   "metadata": {},
   "outputs": [
    {
     "data": {
      "text/plain": [
       "101"
      ]
     },
     "metadata": {},
     "output_type": "display_data"
    }
   ],
   "source": [
    "# Insert the record\n",
    "SQLite.execute(db, \"INSERT INTO movies (movie_id, movie_name, location) VALUES(1, 'Avengers', 'USA')\")"
   ]
  },
  {
   "cell_type": "code",
   "execution_count": 12,
   "metadata": {},
   "outputs": [
    {
     "data": {
      "text/html": [
       "<div class=\"data-frame\"><p>1 rows × 3 columns</p><table class=\"data-frame\"><thead><tr><th></th><th>movie_id</th><th>movie_name</th><th>location</th></tr><tr><th></th><th title=\"Float64\">Float64</th><th title=\"String\">String</th><th title=\"String\">String</th></tr></thead><tbody><tr><th>1</th><td>1.0</td><td>Avengers</td><td>USA</td></tr></tbody></table></div>"
      ],
      "text/latex": [
       "\\begin{tabular}{r|ccc}\n",
       "\t& movie\\_id & movie\\_name & location\\\\\n",
       "\t\\hline\n",
       "\t& Float64 & String & String\\\\\n",
       "\t\\hline\n",
       "\t1 & 1.0 & Avengers & USA \\\\\n",
       "\\end{tabular}\n"
      ],
      "text/plain": [
       "\u001b[1m1×3 DataFrame\u001b[0m\n",
       "\u001b[1m Row \u001b[0m│\u001b[1m movie_id \u001b[0m\u001b[1m movie_name \u001b[0m\u001b[1m location \u001b[0m\n",
       "\u001b[1m     \u001b[0m│\u001b[90m Float64  \u001b[0m\u001b[90m String     \u001b[0m\u001b[90m String   \u001b[0m\n",
       "─────┼────────────────────────────────\n",
       "   1 │      1.0  Avengers    USA"
      ]
     },
     "metadata": {},
     "output_type": "display_data"
    }
   ],
   "source": [
    "using DataFrames\n",
    "DataFrame(SQLite.DBInterface.execute(db, \"SELECT * FROM movies\"))"
   ]
  },
  {
   "cell_type": "code",
   "execution_count": 14,
   "metadata": {},
   "outputs": [
    {
     "data": {
      "text/html": [
       "<div class=\"data-frame\"><p>3 rows × 6 columns</p><table class=\"data-frame\"><thead><tr><th></th><th>cid</th><th>name</th><th>type</th><th>notnull</th><th>dflt_value</th><th>pk</th></tr><tr><th></th><th title=\"Int64\">Int64</th><th title=\"String\">String</th><th title=\"String\">String</th><th title=\"Int64\">Int64</th><th title=\"Missing\">Missing</th><th title=\"Int64\">Int64</th></tr></thead><tbody><tr><th>1</th><td>0</td><td>movie_id</td><td>REAL</td><td>0</td><td><em>missing</em></td><td>0</td></tr><tr><th>2</th><td>1</td><td>movie_name</td><td>TEXT</td><td>0</td><td><em>missing</em></td><td>0</td></tr><tr><th>3</th><td>2</td><td>location</td><td>TEXT</td><td>0</td><td><em>missing</em></td><td>0</td></tr></tbody></table></div>"
      ],
      "text/latex": [
       "\\begin{tabular}{r|cccccc}\n",
       "\t& cid & name & type & notnull & dflt\\_value & pk\\\\\n",
       "\t\\hline\n",
       "\t& Int64 & String & String & Int64 & Missing & Int64\\\\\n",
       "\t\\hline\n",
       "\t1 & 0 & movie\\_id & REAL & 0 & \\emph{missing} & 0 \\\\\n",
       "\t2 & 1 & movie\\_name & TEXT & 0 & \\emph{missing} & 0 \\\\\n",
       "\t3 & 2 & location & TEXT & 0 & \\emph{missing} & 0 \\\\\n",
       "\\end{tabular}\n"
      ],
      "text/plain": [
       "\u001b[1m3×6 DataFrame\u001b[0m\n",
       "\u001b[1m Row \u001b[0m│\u001b[1m cid   \u001b[0m\u001b[1m name       \u001b[0m\u001b[1m type   \u001b[0m\u001b[1m notnull \u001b[0m\u001b[1m dflt_value \u001b[0m\u001b[1m pk    \u001b[0m\n",
       "\u001b[1m     \u001b[0m│\u001b[90m Int64 \u001b[0m\u001b[90m String     \u001b[0m\u001b[90m String \u001b[0m\u001b[90m Int64   \u001b[0m\u001b[90m Missing    \u001b[0m\u001b[90m Int64 \u001b[0m\n",
       "─────┼───────────────────────────────────────────────────────\n",
       "   1 │     0  movie_id    REAL          0 \u001b[90m    missing \u001b[0m     0\n",
       "   2 │     1  movie_name  TEXT          0 \u001b[90m    missing \u001b[0m     0\n",
       "   3 │     2  location    TEXT          0 \u001b[90m    missing \u001b[0m     0"
      ]
     },
     "metadata": {},
     "output_type": "display_data"
    }
   ],
   "source": [
    "DataFrame(SQLite.columns(db, \"movies\"))"
   ]
  }
 ],
 "metadata": {
  "kernelspec": {
   "display_name": "Julia 1.8.1",
   "language": "julia",
   "name": "julia-1.8"
  },
  "language_info": {
   "file_extension": ".jl",
   "mimetype": "application/julia",
   "name": "julia",
   "version": "1.8.1"
  },
  "orig_nbformat": 4
 },
 "nbformat": 4,
 "nbformat_minor": 2
}
