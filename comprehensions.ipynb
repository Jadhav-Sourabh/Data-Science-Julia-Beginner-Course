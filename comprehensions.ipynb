{
 "cells": [
  {
   "cell_type": "code",
   "execution_count": 1,
   "metadata": {},
   "outputs": [
    {
     "data": {
      "text/plain": [
       "10-element Vector{Int64}:\n",
       "  1\n",
       "  2\n",
       "  3\n",
       "  4\n",
       "  5\n",
       "  6\n",
       "  7\n",
       "  8\n",
       "  9\n",
       " 10"
      ]
     },
     "metadata": {},
     "output_type": "display_data"
    }
   ],
   "source": [
    "x = [i for i in 1:10]"
   ]
  },
  {
   "cell_type": "code",
   "execution_count": 2,
   "metadata": {},
   "outputs": [
    {
     "data": {
      "text/plain": [
       "20-element Vector{Int64}:\n",
       "  2\n",
       "  4\n",
       "  6\n",
       "  8\n",
       " 10\n",
       " 12\n",
       " 14\n",
       " 16\n",
       " 18\n",
       " 20\n",
       " 22\n",
       " 24\n",
       " 26\n",
       " 28\n",
       " 30\n",
       " 32\n",
       " 34\n",
       " 36\n",
       " 38\n",
       " 40"
      ]
     },
     "metadata": {},
     "output_type": "display_data"
    }
   ],
   "source": [
    "x = [i * 2 for i in 1:20]"
   ]
  },
  {
   "cell_type": "code",
   "execution_count": 4,
   "metadata": {},
   "outputs": [
    {
     "data": {
      "text/plain": [
       "5-element Vector{Int64}:\n",
       "  2\n",
       "  6\n",
       " 10\n",
       " 14\n",
       " 18"
      ]
     },
     "metadata": {},
     "output_type": "display_data"
    }
   ],
   "source": [
    "x = [i * 2 for i in 1:2:10]"
   ]
  },
  {
   "cell_type": "code",
   "execution_count": 5,
   "metadata": {},
   "outputs": [
    {
     "data": {
      "text/plain": [
       "Set{Int64} with 10 elements:\n",
       "  5\n",
       "  4\n",
       "  6\n",
       "  7\n",
       "  2\n",
       "  10\n",
       "  9\n",
       "  8\n",
       "  3\n",
       "  1"
      ]
     },
     "metadata": {},
     "output_type": "display_data"
    }
   ],
   "source": [
    "s = Set([i for i in 1:10])"
   ]
  },
  {
   "cell_type": "code",
   "execution_count": 9,
   "metadata": {},
   "outputs": [
    {
     "data": {
      "text/plain": [
       "Dict{String, Int64} with 26 entries:\n",
       "  \"Z\" => 26\n",
       "  \"Q\" => 17\n",
       "  \"W\" => 23\n",
       "  \"T\" => 20\n",
       "  \"C\" => 3\n",
       "  \"P\" => 16\n",
       "  \"V\" => 22\n",
       "  \"L\" => 12\n",
       "  \"O\" => 15\n",
       "  \"B\" => 2\n",
       "  \"M\" => 13\n",
       "  \"N\" => 14\n",
       "  \"H\" => 8\n",
       "  \"A\" => 1\n",
       "  \"X\" => 24\n",
       "  \"D\" => 4\n",
       "  \"G\" => 7\n",
       "  \"E\" => 5\n",
       "  \"Y\" => 25\n",
       "  ⋮   => ⋮"
      ]
     },
     "metadata": {},
     "output_type": "display_data"
    }
   ],
   "source": [
    "alphabet = Dict(string(Char(i + 64)) => i for i in 1:26)"
   ]
  },
  {
   "cell_type": "code",
   "execution_count": 10,
   "metadata": {},
   "outputs": [
    {
     "data": {
      "text/plain": [
       "3×2 Matrix{Tuple{Int64, Int64}}:\n",
       " (1, 1)  (1, 2)\n",
       " (2, 1)  (2, 2)\n",
       " (3, 1)  (3, 2)"
      ]
     },
     "metadata": {},
     "output_type": "display_data"
    }
   ],
   "source": [
    "# Creating a multi-dimensional array\n",
    "[(x, y) for x in 1:3, y in 1:2]"
   ]
  },
  {
   "cell_type": "code",
   "execution_count": 11,
   "metadata": {},
   "outputs": [
    {
     "data": {
      "text/plain": [
       "5-element Vector{Int64}:\n",
       "  2\n",
       "  4\n",
       "  6\n",
       "  8\n",
       " 10"
      ]
     },
     "metadata": {},
     "output_type": "display_data"
    }
   ],
   "source": [
    "# Conditional comprehension\n",
    "[x for x in 1:10 if x%2 == 0]"
   ]
  }
 ],
 "metadata": {
  "kernelspec": {
   "display_name": "Julia 1.8.1",
   "language": "julia",
   "name": "julia-1.8"
  },
  "language_info": {
   "file_extension": ".jl",
   "mimetype": "application/julia",
   "name": "julia",
   "version": "1.8.1"
  },
  "orig_nbformat": 4
 },
 "nbformat": 4,
 "nbformat_minor": 2
}
