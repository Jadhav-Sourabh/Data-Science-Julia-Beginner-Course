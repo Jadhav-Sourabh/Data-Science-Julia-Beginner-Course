{
 "cells": [
  {
   "cell_type": "code",
   "execution_count": 2,
   "metadata": {},
   "outputs": [
    {
     "name": "stdout",
     "output_type": "stream",
     "text": [
      "24\n"
     ]
    }
   ],
   "source": [
    "# There are two ways to write the comments in a Julia\n",
    "# 1st type is using the hash\n",
    "# 2nd is using the double colen\n",
    "\"\"\"\n",
    "This is Julia language programming\n",
    "\"\"\"\n",
    "\n",
    "name = 24\n",
    "println(name)"
   ]
  }
 ],
 "metadata": {
  "kernelspec": {
   "display_name": "Julia 1.8.1",
   "language": "julia",
   "name": "julia-1.8"
  },
  "language_info": {
   "file_extension": ".jl",
   "mimetype": "application/julia",
   "name": "julia",
   "version": "1.8.1"
  },
  "orig_nbformat": 4
 },
 "nbformat": 4,
 "nbformat_minor": 2
}
